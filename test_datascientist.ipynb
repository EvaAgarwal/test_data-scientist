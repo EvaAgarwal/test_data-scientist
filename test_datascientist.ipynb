{
 "cells": [
  {
   "cell_type": "markdown",
   "metadata": {},
   "source": [
    "## Question 1."
   ]
  },
  {
   "cell_type": "code",
   "execution_count": null,
   "metadata": {},
   "outputs": [],
   "source": [
    "##Let the joint probability density for (X,Y) be\n",
    "\n",
    "f(x,y) = x+y/2, x>0, y>0, 3x+y<3,\n",
    "infinity elsewhere\n",
    "\n",
    "#Find the probablity\n",
    "\n",
    "P(X<Y)\n",
    "intersection point: \n",
    "    y = x and x+3y=3\n",
    "    x=3/4 and y = 3/4\n",
    "    \n",
    "P( X < Y ) =3/4 0 ∫(3-3x x∫ X+Y/2dy) dx  = 3/40∫(9/4-3x)dx  = 27/32\n",
    "\n"
   ]
  },
  {
   "cell_type": "markdown",
   "metadata": {},
   "source": [
    "## Question 2.\n"
   ]
  },
  {
   "cell_type": "code",
   "execution_count": 4,
   "metadata": {},
   "outputs": [
    {
     "name": "stdout",
     "output_type": "stream",
     "text": [
      "Counts of pair W/H given diff=  2\n"
     ]
    }
   ],
   "source": [
    "def countPrDK(arr, n, k):\n",
    "    count = 0\n",
    "     \n",
    "    # Pick all elements one by one\n",
    "    for i in range(0, n):\n",
    "         \n",
    "        # See if there is a pair of this picked element\n",
    "        for j in range(i+1, n) :\n",
    "             \n",
    "            if arr[i] - arr[j] == k or arr[j] - arr[i] == k:\n",
    "                count += 1\n",
    "                 \n",
    "    return count\n",
    " \n",
    "arr = [1, 5, 3, 4, 2]\n",
    " \n",
    "n = len(arr)\n",
    "k = 3\n",
    "print (\"Counts of pair W/H given diff= \",\n",
    "                countPrDK(arr, n, k))"
   ]
  },
  {
   "cell_type": "markdown",
   "metadata": {},
   "source": [
    "## Question 3."
   ]
  },
  {
   "cell_type": "code",
   "execution_count": 7,
   "metadata": {},
   "outputs": [],
   "source": [
    "data = [\n",
    " (\"username1\",\"phone_number1\", \"email1\"),\n",
    " (\"usernameX\",\"phone_number1\", \"emailX\"),\n",
    " (\"usernameZ\",\"phone_numberZ\", \"email1Z\"),\n",
    " (\"usernameY\",\"phone_numberY\", \"emailX\"),\n",
    " ]\n"
   ]
  },
  {
   "cell_type": "code",
   "execution_count": null,
   "metadata": {},
   "outputs": [],
   "source": [
    "public static void main(String[] args)\n",
    "    {   \n",
    "        List<String> list = new ArrayList<String>();\n",
    "        list.add(\"1\");\n",
    "        list.add(\"2\");\n",
    "        list.add(1, \"3\");\n",
    "        List<String> list2 = new LinkedList<String>(list);\n",
    "        list.addAll(list2);\n",
    "        System.out.println(list);\n",
    "        list2 = list.subList(2, 5);\n",
    "        System.out.println(list2);\n",
    "        list2.clear();               //Changes are made to list1\n",
    "        System.out.println(list);\n",
    "\n",
    "    }\n",
    "    \n",
    "    #output \n",
    "    [1, 3, 2, 1, 3, 2]\n",
    "[2, 1, 3]\n",
    "[1, 3, 2]"
   ]
  },
  {
   "cell_type": "code",
   "execution_count": null,
   "metadata": {},
   "outputs": [],
   "source": []
  }
 ],
 "metadata": {
  "kernelspec": {
   "display_name": "Python 3",
   "language": "python",
   "name": "python3"
  },
  "language_info": {
   "codemirror_mode": {
    "name": "ipython",
    "version": 3
   },
   "file_extension": ".py",
   "mimetype": "text/x-python",
   "name": "python",
   "nbconvert_exporter": "python",
   "pygments_lexer": "ipython3",
   "version": "3.8.3"
  }
 },
 "nbformat": 4,
 "nbformat_minor": 4
}
